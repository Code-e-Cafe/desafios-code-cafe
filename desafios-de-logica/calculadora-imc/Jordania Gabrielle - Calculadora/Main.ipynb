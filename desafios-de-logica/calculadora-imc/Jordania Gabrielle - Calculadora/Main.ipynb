{
  "cells": [
    {
      "cell_type": "markdown",
      "metadata": {
        "colab_type": "text",
        "id": "view-in-github"
      },
      "source": [
        "<a href=\"https://colab.research.google.com/github/JordaniaGabrielle/desafios-code-cafe/blob/main/Jordania_Gabrielle_Calculadora.ipynb\" target=\"_parent\"><img src=\"https://colab.research.google.com/assets/colab-badge.svg\" alt=\"Open In Colab\"/></a>"
      ]
    },
    {
      "cell_type": "markdown",
      "metadata": {
        "id": "q-K2qSLHGAnR"
      },
      "source": [
        "## ***Calculadora***"
      ]
    },
    {
      "cell_type": "code",
      "execution_count": null,
      "metadata": {
        "colab": {
          "base_uri": "https://localhost:8080/"
        },
        "id": "N43bNS3IF9UZ",
        "outputId": "a4b01def-06ab-4ba8-8cee-5d7fbfe45ce1"
      },
      "outputs": [
        {
          "name": "stdout",
          "output_type": "stream",
          "text": [
            "Selecione o número da operação desejada: \n",
            " 1 - SOMA \n",
            " 2 - SUBTRAÇÃO \n",
            " 3 - MULTIPLICAÇÃO \n",
            " 4 - DIVISÃO \n",
            "Digite sua operação (1/2/3/4) : 2\n",
            "Digite o primeiro Número: 10\n",
            "Digite osegundo Número: 5\n",
            " 10 - 5 = 5\n"
          ]
        }
      ],
      "source": [
        "# Criando as funçôes das operaçôes\n",
        "\n",
        "def soma(n1, n2):\n",
        "    resultado = (n1 + n2)\n",
        "    print(f' {n1} + {n2} = {resultado}')\n",
        "\n",
        "def subtracao(n1, n2):\n",
        "    resultado = (n1 - n2)\n",
        "    print(f' {n1} - {n2} = {resultado}')\n",
        "\n",
        "def multiplicacao(n1, n2):\n",
        "    resultado = (n1 * n2)\n",
        "    print(f' {n1} * {n2} = {resultado}')\n",
        "\n",
        "def divisao(n1, n2):\n",
        "    resultado = (n1 / n2)\n",
        "    print(f' {n1} / {n2} = {resultado}')\n",
        "\n",
        "print('Selecione o número da operação desejada: ')\n",
        "\n",
        "print(' 1 - SOMA \\n 2 - SUBTRAÇÃO \\n 3 - MULTIPLICAÇÃO \\n 4 - DIVISÃO ')\n",
        "\n",
        "# Definindo a opração\n",
        "escolha = input('Digite sua operação (1/2/3/4) : ')\n",
        "\n",
        "n1 = int(input('Digite o primeiro Número: '))\n",
        "\n",
        "n2 = int(input('Digite o segundo Número: '))\n",
        "\n",
        "# Usando condicionais para selecionar a operação\n",
        "\n",
        "if escolha == '1' :\n",
        "    soma(n1, n2)\n",
        "elif escolha == '2':\n",
        "    subtracao(n1, n2)\n",
        "elif escolha == '3':\n",
        "    multiplicacao(n1, n2)\n",
        "elif escolha == '4':\n",
        "    divisao(n1, n2)\n",
        "else:\n",
        "    print('opção inexixtente')"
      ]
    }
  ],
  "metadata": {
    "colab": {
      "authorship_tag": "ABX9TyNsXbIbXQwIfiRHi5ozmRel",
      "include_colab_link": true,
      "provenance": []
    },
    "kernelspec": {
      "display_name": "Python 3",
      "name": "python3"
    },
    "language_info": {
      "name": "python"
    }
  },
  "nbformat": 4,
  "nbformat_minor": 0
}
